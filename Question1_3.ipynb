{
  "nbformat": 4,
  "nbformat_minor": 0,
  "metadata": {
    "colab": {
      "name": "Question1_3.ipynb",
      "provenance": [],
      "collapsed_sections": []
    },
    "kernelspec": {
      "name": "python3",
      "display_name": "Python 3"
    },
    "accelerator": "GPU"
  },
  "cells": [
    {
      "cell_type": "code",
      "metadata": {
        "id": "GNW9NQSGr8lL",
        "colab_type": "code",
        "outputId": "1ed723c6-e92c-4aaf-db11-eab02be09f84",
        "colab": {
          "base_uri": "https://localhost:8080/",
          "height": 34
        }
      },
      "source": [
        "#set the tesorflow version to 2 and import packages\n",
        "%tensorflow_version 2.x\n",
        "import tensorflow as tf\n",
        "import matplotlib.pyplot as plt\n",
        "print(tf.__version__)"
      ],
      "execution_count": 0,
      "outputs": [
        {
          "output_type": "stream",
          "text": [
            "2.2.0-rc2\n"
          ],
          "name": "stdout"
        }
      ]
    },
    {
      "cell_type": "code",
      "metadata": {
        "id": "U4_yi-lzsOaX",
        "colab_type": "code",
        "outputId": "362e6aed-d2c0-494c-bce2-881ef789bd2e",
        "colab": {
          "base_uri": "https://localhost:8080/",
          "height": 86
        }
      },
      "source": [
        "#load the fashion mnist dataset from keras (code as given in the assignment specification pdf)\n",
        "from keras.utils import np_utils\n",
        "\n",
        "fashion_mnist = tf.keras.datasets.fashion_mnist\n",
        "\n",
        "# load the training and test data    \n",
        "(tr_x, tr_y), (te_x, te_y) = fashion_mnist.load_data()\n",
        "\n",
        "# reshape the feature data\n",
        "tr_x = tr_x.reshape(tr_x.shape[0], 784)\n",
        "te_x = te_x.reshape(te_x.shape[0], 784)\n",
        "\n",
        "# noramlise feature data\n",
        "tr_x = tr_x / 255.0\n",
        "te_x = te_x / 255.0\n",
        "\n",
        "print( \"Shape of training features \", tr_x.shape)\n",
        "print( \"Shape of test features \", te_x.shape)\n",
        "\n",
        "\n",
        "# one hot encode the training labels and get the transpose\n",
        "tr_y = np_utils.to_categorical(tr_y,10)\n",
        "tr_y = tr_y.T\n",
        "print (\"Shape of training labels \", tr_y.shape)\n",
        "\n",
        "# one hot encode the test labels and get the transpose\n",
        "te_y = np_utils.to_categorical(te_y,10)\n",
        "te_y = te_y.T\n",
        "print (\"Shape of testing labels \", te_y.shape)"
      ],
      "execution_count": 0,
      "outputs": [
        {
          "output_type": "stream",
          "text": [
            "Shape of training features  (60000, 784)\n",
            "Shape of test features  (10000, 784)\n",
            "Shape of training labels  (10, 60000)\n",
            "Shape of testing labels  (10, 10000)\n"
          ],
          "name": "stdout"
        }
      ]
    },
    {
      "cell_type": "code",
      "metadata": {
        "id": "OFdusEeBsRaX",
        "colab_type": "code",
        "outputId": "53fd5453-091d-4cf4-d7e1-6b198715f706",
        "colab": {
          "base_uri": "https://localhost:8080/",
          "height": 52
        }
      },
      "source": [
        "#Reshape the training and test data so that features become the rows\n",
        "tr_x = tf.cast(tr_x.T, tf.float32)\n",
        "te_x = tf.cast(te_x.T,tf.float32)\n",
        "print(\"Train features data shape : \",tr_x.shape)\n",
        "print(\"Test features data shape : \",te_x.shape)"
      ],
      "execution_count": 0,
      "outputs": [
        {
          "output_type": "stream",
          "text": [
            "Train features data shape :  (784, 60000)\n",
            "Test features data shape :  (784, 10000)\n"
          ],
          "name": "stdout"
        }
      ]
    },
    {
      "cell_type": "code",
      "metadata": {
        "id": "PBUQztQpsUhy",
        "colab_type": "code",
        "colab": {}
      },
      "source": [
        "#forward_pass, relu_layer and softmax activation function\n",
        "def softmax_activation(x):\n",
        "  step_1 = tf.math.exp(x)\n",
        "  step_2 = step_1/(tf.math.reduce_sum(step_1,axis = 0))\n",
        "  return step_2\n",
        "\n",
        "def relu_layer(data, coefficients, bias):\n",
        "  H = tf.math.add(tf.matmul(coefficients, data), bias)\n",
        "  #zeros = tf.zeros([H.shape[0],H.shape[1]],tf.float32)\n",
        "  return tf.math.maximum(H,0.0)\n",
        "\n",
        "def forward_pass(tr_x, coefficients1, bias1, coefficients2, bias2, coefficients3, bias3):\n",
        "  H1 = relu_layer(tr_x, coefficients1, bias1)\n",
        "  H2 = relu_layer(H1, coefficients2, bias2)\n",
        "  prediction = softmax_activation(tf.math.add(tf.matmul(coefficients3, H2), bias3)) \n",
        "  return prediction"
      ],
      "execution_count": 0,
      "outputs": []
    },
    {
      "cell_type": "code",
      "metadata": {
        "id": "P42Q1x1msXUX",
        "colab_type": "code",
        "colab": {}
      },
      "source": [
        "#cross_entropy function with L1 regularization\n",
        "def cross_entropy_l1_regularization(predictions, tr_y, coefficients1, coefficients2, coefficients3):\n",
        "  delta = tf.constant(0.00001,tf.float32)\n",
        "  loss = tf.math.reduce_sum(tf.math.negative(tf.multiply(tr_y,tf.math.log(predictions))),axis = 0)\n",
        "  loss = tf.math.reduce_mean(loss)\n",
        "  reg = tf.multiply(delta,tf.math.add(tf.math.reduce_sum(coefficients1),tf.math.add(tf.math.reduce_sum(coefficients2),tf.math.reduce_sum(coefficients3))))\n",
        "  return tf.math.add(loss,reg)\n",
        "  "
      ],
      "execution_count": 0,
      "outputs": []
    },
    {
      "cell_type": "code",
      "metadata": {
        "id": "wZ_2vYK9QYri",
        "colab_type": "code",
        "colab": {}
      },
      "source": [
        "#cross_entropy function with L2 regularization\n",
        "def cross_entropy_l2_regularization(predictions, tr_y, coefficients1, coefficients2, coefficients3):\n",
        "  delta = tf.constant(0.001,tf.float32)\n",
        "  loss = tf.math.reduce_sum(tf.math.negative(tf.multiply(tr_y,tf.math.log(predictions))),axis = 0)\n",
        "  loss = tf.math.reduce_sum(loss)/tr_y.shape[1]\n",
        "  reg = tf.multiply(delta,tf.math.add(tf.math.reduce_sum(tf.math.pow(coefficients1,2)),\n",
        "                                      tf.math.add(tf.math.reduce_sum(tf.math.pow(coefficients2,2)),\n",
        "                                                  tf.math.reduce_sum(tf.math.pow(coefficients3,2)))))\n",
        "  return tf.math.add(loss,reg)\n",
        "\n"
      ],
      "execution_count": 0,
      "outputs": []
    },
    {
      "cell_type": "code",
      "metadata": {
        "id": "c6vvK2pMsaE2",
        "colab_type": "code",
        "colab": {}
      },
      "source": [
        "#calculate_accuracy function\n",
        "def calculate_accuracy(predictions, tr_y):\n",
        "  max_prob_predictions = tf.math.argmax(predictions)\n",
        "  max_prob_tr_y = tf.math.argmax(tr_y)\n",
        "  result = tf.reduce_sum(tf.cast(tf.equal(max_prob_predictions, max_prob_tr_y), tf.float32))\n",
        "  return result/tr_y.shape[1]*100"
      ],
      "execution_count": 0,
      "outputs": []
    },
    {
      "cell_type": "code",
      "metadata": {
        "id": "zHXbnuqAsctH",
        "colab_type": "code",
        "colab": {}
      },
      "source": [
        "#model for L1 regularization\n",
        "#create and initialize 6 tensorflow variables- coefficients1, coefficients2 and coefficients3 with random values and the bias1, bias2 and bias3 with 0.0\n",
        "coefficients1 = tf.Variable(tf.random.normal([ 300,tr_x.shape[0]], mean=0.0, stddev=0.05, seed = 100))\n",
        "bias1 = tf.Variable([0.], dtype = tf.float32)\n",
        "coefficients2 = tf.Variable(tf.random.normal([ 100,300], mean=0.0, stddev=0.05, seed = 100))\n",
        "bias2 = tf.Variable([0.], dtype = tf.float32)\n",
        "coefficients3 = tf.Variable(tf.random.normal([ 10, 100 ], mean=0.0, stddev=0.05, seed = 100))\n",
        "bias3 = tf.Variable([0.], dtype = tf.float32)\n",
        "\n",
        "max_iter = 200\n",
        "adam_optimizer = tf.keras.optimizers.Adam()\n",
        "\n",
        "training_loss = []\n",
        "training_accuracy = []\n",
        "testing_accuracy = []\n",
        "testing_loss = []\n",
        "\n",
        "for i in range(max_iter):\n",
        "\n",
        "  #recording the predictions and loss for train and test data for every iteration using the gradient tape\n",
        "  with tf.GradientTape() as tape:\n",
        "\n",
        "    predictions = forward_pass(tr_x,coefficients1, bias1, coefficients2, bias2, coefficients3, bias3)\n",
        "    loss = cross_entropy_l1_regularization(predictions, tr_y, coefficients1, coefficients2, coefficients3)\n",
        "    training_loss.append(loss)\n",
        "    \n",
        "    #testing tthe model with test data\n",
        "    test_predictions = forward_pass(te_x,coefficients1, bias1, coefficients2, bias2, coefficients3, bias3)\n",
        "    test_loss = cross_entropy_l1_regularization(test_predictions, te_y, coefficients1, coefficients2, coefficients3)\n",
        "    testing_loss.append(test_loss)\n",
        "  \n",
        "  #computing train accuracy\n",
        "  trainAccuracy = calculate_accuracy(predictions, tr_y)\n",
        "  training_accuracy.append(trainAccuracy)\n",
        "\n",
        "  #computing test accuracy\n",
        "  testAccuracy = calculate_accuracy(test_predictions, te_y)\n",
        "  testing_accuracy.append(testAccuracy)\n",
        "\n",
        "  #updating the coefficients and bias with the loss from the gradient tape\n",
        "  gradients = tape.gradient(loss, [coefficients1, bias1, coefficients2, bias2, coefficients3, bias3])\n",
        "  adam_optimizer.apply_gradients(zip(gradients, [coefficients1,bias1,coefficients2, bias2, coefficients3, bias3]))\n",
        "\n"
      ],
      "execution_count": 0,
      "outputs": []
    },
    {
      "cell_type": "code",
      "metadata": {
        "id": "sC7rnQGnHPdL",
        "colab_type": "code",
        "outputId": "ba72fd7f-6837-4753-ff73-b70fa77fcd5b",
        "colab": {
          "base_uri": "https://localhost:8080/",
          "height": 642
        }
      },
      "source": [
        "#evaluation of L1 regularization model\n",
        "#printing final train and test accuracy\n",
        "print(\"Train Accuracy :\", trainAccuracy.numpy())\n",
        "print(\"Test Accuracy :\", testAccuracy.numpy())\n",
        "\n",
        "#plot for the train vs. test accuracy\n",
        "plt.plot(training_accuracy, label = 'Training Accuracy')\n",
        "plt.plot(testing_accuracy, label = 'Testing Accuracy')\n",
        "plt.title('Train vs. Test Accuracy')\n",
        "plt.xlabel('Iterations')\n",
        "plt.legend()\n",
        "plt.show()\n",
        "\n",
        "#printing final train and test loss\n",
        "print(\"Train Loss :\", loss.numpy())\n",
        "print(\"Test Loss :\", test_loss.numpy())\n",
        "\n",
        "\n",
        "#plot for the train vs. test loss\n",
        "plt.plot(training_loss, label = 'Train Loss')\n",
        "plt.plot(testing_loss, label = 'Test Loss')\n",
        "plt.title('Train vs. Test Loss')\n",
        "plt.xlabel('Iterations')\n",
        "plt.legend()\n",
        "plt.show()"
      ],
      "execution_count": 0,
      "outputs": [
        {
          "output_type": "stream",
          "text": [
            "Train Accuracy : 88.88333\n",
            "Test Accuracy : 86.81\n"
          ],
          "name": "stdout"
        },
        {
          "output_type": "display_data",
          "data": {
            "image/png": "[encoded data removed]",
            "text/plain": [
              "<Figure size 432x288 with 1 Axes>"
            ]
          },
          "metadata": {
            "tags": [],
            "needs_background": "light"
          }
        },
        {
          "output_type": "stream",
          "text": [
            "Train Loss : 0.21563703\n",
            "Test Loss : 0.27156886\n"
          ],
          "name": "stdout"
        },
        {
          "output_type": "display_data",
          "data": {
            "image/png": "[encoded data removed]",
            "text/plain": [
              "<Figure size 432x288 with 1 Axes>"
            ]
          },
          "metadata": {
            "tags": [],
            "needs_background": "light"
          }
        }
      ]
    },
    {
      "cell_type": "code",
      "metadata": {
        "id": "HFkOA7QdNCS4",
        "colab_type": "code",
        "colab": {}
      },
      "source": [
        "#model for L2 regularization\n",
        "#create and initialize 6 tensorflow variables- coefficients1, coefficients2 and coefficients3 with random values and the bias1, bias2 and bias3 with 0.0\n",
        "coefficients1 = tf.Variable(tf.random.normal([ 300,tr_x.shape[0]], mean=0.0, stddev=0.05, seed = 100))\n",
        "bias1 = tf.Variable([0.], dtype = tf.float32)\n",
        "coefficients2 = tf.Variable(tf.random.normal([ 100,300], mean=0.0, stddev=0.05, seed = 100))\n",
        "bias2 = tf.Variable([0.], dtype = tf.float32)\n",
        "coefficients3 = tf.Variable(tf.random.normal([ 10, 100 ], mean=0.0, stddev=0.05, seed = 100))\n",
        "bias3 = tf.Variable([0.], dtype = tf.float32)\n",
        "\n",
        "max_iter = 200\n",
        "adam_optimizer = tf.keras.optimizers.Adam()\n",
        "\n",
        "training_loss_l2 = []\n",
        "training_accuracy_l2 = []\n",
        "testing_accuracy_l2 = []\n",
        "testing_loss_l2 = []\n",
        "\n",
        "for i in range(max_iter):\n",
        "\n",
        "  #recording the predictions and loss for train and test data for every iteration using the gradient tape\n",
        "  with tf.GradientTape() as tape:\n",
        "\n",
        "    predictions = forward_pass(tr_x,coefficients1, bias1, coefficients2, bias2, coefficients3, bias3)\n",
        "    loss = cross_entropy_l2_regularization(predictions, tr_y, coefficients1, coefficients2, coefficients3)\n",
        "    training_loss_l2.append(loss)\n",
        "    \n",
        "    #testing tthe model with test data\n",
        "    test_predictions = forward_pass(te_x,coefficients1, bias1, coefficients2, bias2, coefficients3, bias3)\n",
        "    test_loss = cross_entropy_l2_regularization(test_predictions, te_y, coefficients1, coefficients2, coefficients3)\n",
        "    testing_loss_l2.append(test_loss)\n",
        "  \n",
        "  #computing train accuracy\n",
        "  trainAccuracy = calculate_accuracy(predictions, tr_y)\n",
        "  training_accuracy_l2.append(trainAccuracy)\n",
        "\n",
        "  #computing test accuracy\n",
        "  testAccuracy = calculate_accuracy(test_predictions, te_y)\n",
        "  testing_accuracy_l2.append(testAccuracy)\n",
        "\n",
        "  #updating the coefficients and bias with the loss from the gradient tape\n",
        "  gradients = tape.gradient(loss, [coefficients1, bias1, coefficients2, bias2, coefficients3, bias3])\n",
        "  adam_optimizer.apply_gradients(zip(gradients, [coefficients1,bias1,coefficients2, bias2, coefficients3, bias3]))"
      ],
      "execution_count": 0,
      "outputs": []
    },
    {
      "cell_type": "code",
      "metadata": {
        "id": "iLWyChTYNKoB",
        "colab_type": "code",
        "outputId": "68ceb8d8-8595-445f-ec72-5a025805c8c6",
        "colab": {
          "base_uri": "https://localhost:8080/",
          "height": 642
        }
      },
      "source": [
        "#evaluation of L2 regularization model\n",
        "#printing final train and test accuracy\n",
        "print(\"Train Accuracy :\", trainAccuracy.numpy())\n",
        "print(\"Test Accuracy :\", testAccuracy.numpy())\n",
        "\n",
        "#plot for the train vs. test accuracy\n",
        "plt.plot(training_accuracy_l2, label = 'Training Accuracy')\n",
        "plt.plot(testing_accuracy_l2, label = 'Testing Accuracy')\n",
        "plt.title('Train vs. Test Accuracy')\n",
        "plt.xlabel('Iterations')\n",
        "plt.legend()\n",
        "plt.show()\n",
        "\n",
        "#printing final train and test loss\n",
        "print(\"Train Loss :\", loss.numpy())\n",
        "print(\"Test Loss :\", test_loss.numpy())\n",
        "\n",
        "\n",
        "#plot for the train vs. test loss\n",
        "plt.plot(training_loss_l2, label = 'Train Loss')\n",
        "plt.plot(testing_loss_l2, label = 'Test Loss')\n",
        "plt.title('Train vs. Test Loss')\n",
        "plt.xlabel('Iterations')\n",
        "plt.legend()\n",
        "plt.show()"
      ],
      "execution_count": 0,
      "outputs": [
        {
          "output_type": "stream",
          "text": [
            "Train Accuracy : 86.98334\n",
            "Test Accuracy : 85.2\n"
          ],
          "name": "stdout"
        },
        {
          "output_type": "display_data",
          "data": {
            "image/png": "[encoded data removed]",
            "text/plain": [
              "<Figure size 432x288 with 1 Axes>"
            ]
          },
          "metadata": {
            "tags": [],
            "needs_background": "light"
          }
        },
        {
          "output_type": "stream",
          "text": [
            "Train Loss : 0.5575844\n",
            "Test Loss : 0.59923\n"
          ],
          "name": "stdout"
        },
        {
          "output_type": "display_data",
          "data": {
            "image/png": "[encoded data removed]",
            "text/plain": [
              "<Figure size 432x288 with 1 Axes>"
            ]
          },
          "metadata": {
            "tags": [],
            "needs_background": "light"
          }
        }
      ]
    }
  ]
}