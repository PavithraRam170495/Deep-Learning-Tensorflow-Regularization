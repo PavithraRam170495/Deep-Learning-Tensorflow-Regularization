{
  "nbformat": 4,
  "nbformat_minor": 0,
  "metadata": {
    "colab": {
      "name": "Question1_1.ipynb",
      "provenance": [],
      "collapsed_sections": []
    },
    "kernelspec": {
      "name": "python3",
      "display_name": "Python 3"
    },
    "accelerator": "GPU"
  },
  "cells": [
    {
      "cell_type": "code",
      "metadata": {
        "id": "jF6AQELFNUUd",
        "colab_type": "code",
        "outputId": "333e85be-94ff-44b2-f179-72c2b1065e6b",
        "colab": {
          "base_uri": "https://localhost:8080/",
          "height": 34
        }
      },
      "source": [
        "#set the tesorflow version to 2 and import packages\n",
        "%tensorflow_version 2.x\n",
        "import tensorflow as tf\n",
        "import matplotlib.pyplot as plt\n",
        "print(tf.__version__)"
      ],
      "execution_count": 0,
      "outputs": [
        {
          "output_type": "stream",
          "text": [
            "2.2.0-rc2\n"
          ],
          "name": "stdout"
        }
      ]
    },
    {
      "cell_type": "code",
      "metadata": {
        "id": "qO9k6NnhPav7",
        "colab_type": "code",
        "outputId": "8070d4cd-37c6-4543-8f43-b4c4fac265fa",
        "colab": {
          "base_uri": "https://localhost:8080/",
          "height": 243
        }
      },
      "source": [
        "#load the fashion mnist dataset from keras (code as given in the assignment specification pdf)\n",
        "from keras.utils import np_utils\n",
        "\n",
        "fashion_mnist = tf.keras.datasets.fashion_mnist\n",
        "\n",
        "# load the training and test data    \n",
        "(tr_x, tr_y), (te_x, te_y) = fashion_mnist.load_data()\n",
        "\n",
        "# reshape the feature data\n",
        "tr_x = tr_x.reshape(tr_x.shape[0], 784)\n",
        "te_x = te_x.reshape(te_x.shape[0], 784)\n",
        "\n",
        "# noramlise feature data\n",
        "tr_x = tr_x / 255.0\n",
        "te_x = te_x / 255.0\n",
        "\n",
        "print( \"Shape of training features \", tr_x.shape)\n",
        "print( \"Shape of test features \", te_x.shape)\n",
        "\n",
        "\n",
        "# one hot encode the training labels and get the transpose\n",
        "tr_y = np_utils.to_categorical(tr_y,10)\n",
        "tr_y = tr_y.T\n",
        "print (\"Shape of training labels \", tr_y.shape)\n",
        "\n",
        "# one hot encode the test labels and get the transpose\n",
        "te_y = np_utils.to_categorical(te_y,10)\n",
        "te_y = te_y.T\n",
        "print (\"Shape of testing labels \", te_y.shape)"
      ],
      "execution_count": 0,
      "outputs": [
        {
          "output_type": "stream",
          "text": [
            "Downloading data from https://storage.googleapis.com/tensorflow/tf-keras-datasets/train-labels-idx1-ubyte.gz\n",
            "32768/29515 [=================================] - 0s 0us/step\n",
            "Downloading data from https://storage.googleapis.com/tensorflow/tf-keras-datasets/train-images-idx3-ubyte.gz\n"
          ],
          "name": "stdout"
        },
        {
          "output_type": "stream",
          "text": [
            "Using TensorFlow backend.\n"
          ],
          "name": "stderr"
        },
        {
          "output_type": "stream",
          "text": [
            "26427392/26421880 [==============================] - 0s 0us/step\n",
            "Downloading data from https://storage.googleapis.com/tensorflow/tf-keras-datasets/t10k-labels-idx1-ubyte.gz\n",
            "8192/5148 [===============================================] - 0s 0us/step\n",
            "Downloading data from https://storage.googleapis.com/tensorflow/tf-keras-datasets/t10k-images-idx3-ubyte.gz\n",
            "4423680/4422102 [==============================] - 0s 0us/step\n",
            "Shape of training features  (60000, 784)\n",
            "Shape of test features  (10000, 784)\n",
            "Shape of training labels  (10, 60000)\n",
            "Shape of testing labels  (10, 10000)\n"
          ],
          "name": "stdout"
        }
      ]
    },
    {
      "cell_type": "code",
      "metadata": {
        "id": "Bx_cQDceP0Mq",
        "colab_type": "code",
        "outputId": "a25ac4c4-ab0e-4b1a-8743-8630478a017d",
        "colab": {
          "base_uri": "https://localhost:8080/",
          "height": 52
        }
      },
      "source": [
        "#Reshape the training and test data features so that features become the rows\n",
        "tr_x = tf.cast(tr_x.T, tf.float32)\n",
        "te_x = tf.cast(te_x.T,tf.float32)\n",
        "print(\"Train features data shape : \",tr_x.shape)\n",
        "print(\"Test features data shape : \",te_x.shape)"
      ],
      "execution_count": 0,
      "outputs": [
        {
          "output_type": "stream",
          "text": [
            "Train features data shape :  (784, 60000)\n",
            "Test features data shape :  (784, 10000)\n"
          ],
          "name": "stdout"
        }
      ]
    },
    {
      "cell_type": "code",
      "metadata": {
        "id": "uO883025s6ZM",
        "colab_type": "code",
        "colab": {}
      },
      "source": [
        "#forward_pass and softmax activation function\n",
        "def softmax_activation(x):\n",
        "  step_1 = tf.math.exp(x)\n",
        "  step_2 = tf.math.divide(step_1,(tf.math.reduce_sum(step_1,axis=0)))\n",
        "  return step_2\n",
        "\n",
        "def forward_pass(tr_x, coefficients, bias):\n",
        "    prediction = softmax_activation(tf.math.add(tf.matmul(coefficients, tr_x), bias)) \n",
        "    return prediction\n"
      ],
      "execution_count": 0,
      "outputs": []
    },
    {
      "cell_type": "code",
      "metadata": {
        "id": "gso9RZtl5LAP",
        "colab_type": "code",
        "colab": {}
      },
      "source": [
        "#cross_entropy function\n",
        "def cross_entropy(predictions, tr_y):\n",
        "  loss = tf.math.reduce_sum(tf.math.negative(tf.multiply(tr_y,tf.math.log(predictions))),axis = 0)\n",
        "  return tf.math.reduce_mean(loss)"
      ],
      "execution_count": 0,
      "outputs": []
    },
    {
      "cell_type": "code",
      "metadata": {
        "id": "GscOAHAdApYp",
        "colab_type": "code",
        "colab": {}
      },
      "source": [
        "#calculate_accuracy function\n",
        "def calculate_accuracy(predictions, tr_y):\n",
        "  max_prob_predictions = tf.math.argmax(predictions)\n",
        "  max_prob_tr_y = tf.math.argmax(tr_y)\n",
        "  result = tf.reduce_sum(tf.cast(tf.equal(max_prob_predictions, max_prob_tr_y), tf.float32))\n",
        "  return result/tr_y.shape[1]*100  \n",
        "  "
      ],
      "execution_count": 0,
      "outputs": []
    },
    {
      "cell_type": "code",
      "metadata": {
        "id": "6fY4OtkOc4mS",
        "colab_type": "code",
        "colab": {}
      },
      "source": [
        "#initialize the coefficients matrix of shape(10,784) with random values and the bias with 0\n",
        "coefficients = tf.Variable(tf.random.normal([ 10,tr_x.shape[0]], mean=0.0, stddev=0.05, seed = 10))\n",
        "bias = tf.Variable([0.], dtype = tf.float32)\n",
        "\n",
        "max_iter = 200\n",
        "adam_optimizer = tf.keras.optimizers.Adam()\n",
        "\n",
        "training_loss = []\n",
        "training_accuracy = []\n",
        "testing_accuracy = []\n",
        "testing_loss = []\n",
        "\n",
        "for i in range(max_iter):\n",
        "\n",
        "  #recording the predictions and loss for train and test data for every iteration using the gradient tape\n",
        "  with tf.GradientTape() as tape:\n",
        "    \n",
        "    predictions = forward_pass(tr_x,coefficients, bias)\n",
        "    loss = cross_entropy(predictions, tr_y)\n",
        "    training_loss.append(loss)\n",
        "    \n",
        "\n",
        "    #testing the model with test data\n",
        "    test_predictions = forward_pass(te_x,coefficients, bias)\n",
        "    test_loss = cross_entropy(test_predictions, te_y)\n",
        "    testing_loss.append(test_loss)\n",
        "    \n",
        "  #computing train accuracy\n",
        "  trainAccuracy = calculate_accuracy(predictions, tr_y)\n",
        "  training_accuracy.append(trainAccuracy)\n",
        "\n",
        "  #computing test accuracy\n",
        "  testAccuracy = calculate_accuracy(test_predictions, te_y)\n",
        "  testing_accuracy.append(testAccuracy)\n",
        "\n",
        "  #updating the coefficients and bias with the loss from the gradient tape\n",
        "  gradients = tape.gradient(loss, [coefficients, bias])\n",
        "  adam_optimizer.apply_gradients(zip(gradients, [coefficients,bias]))\n"
      ],
      "execution_count": 0,
      "outputs": []
    },
    {
      "cell_type": "code",
      "metadata": {
        "id": "WaXJnV9-5sHo",
        "colab_type": "code",
        "outputId": "132aca0b-346b-44af-ba29-20ed131237e8",
        "colab": {
          "base_uri": "https://localhost:8080/",
          "height": 642
        }
      },
      "source": [
        "#printing final train and test accuracy\n",
        "print(\"Train Accuracy :\", trainAccuracy.numpy())\n",
        "print(\"Test Accuracy :\", testAccuracy.numpy())\n",
        "\n",
        "#plot for the train vs. test accuracy\n",
        "plt.plot(training_accuracy, label = 'Training Accuracy')\n",
        "plt.plot(testing_accuracy, label = 'Testing Accuracy')\n",
        "plt.title('Train vs. Test Accuracy')\n",
        "plt.xlabel('Iterations')\n",
        "plt.legend()\n",
        "plt.show()\n",
        "\n",
        "#printing final train and test loss\n",
        "print(\"Train Loss :\", loss.numpy())\n",
        "print(\"Test Loss :\", test_loss.numpy())\n",
        "\n",
        "\n",
        "#plot for the train vs. test loss\n",
        "plt.plot(training_loss, label = 'Train Loss')\n",
        "plt.plot(testing_loss, label = 'Test Loss')\n",
        "plt.title('Train vs. Test Loss')\n",
        "plt.xlabel('Iterations')\n",
        "plt.legend()\n",
        "plt.show()\n",
        "\n",
        "\n"
      ],
      "execution_count": 0,
      "outputs": [
        {
          "output_type": "stream",
          "text": [
            "Train Accuracy : 86.66833\n",
            "Test Accuracy : 84.33\n"
          ],
          "name": "stdout"
        },
        {
          "output_type": "display_data",
          "data": {
            "image/png": "[encoded data removed]",
            "text/plain": [
              "<Figure size 432x288 with 1 Axes>"
            ]
          },
          "metadata": {
            "tags": [],
            "needs_background": "light"
          }
        },
        {
          "output_type": "stream",
          "text": [
            "Train Loss : 0.3913986\n",
            "Test Loss : 0.45675957\n"
          ],
          "name": "stdout"
        },
        {
          "output_type": "display_data",
          "data": {
            "image/png": "[encoded data removed]",
            "text/plain": [
              "<Figure size 432x288 with 1 Axes>"
            ]
          },
          "metadata": {
            "tags": [],
            "needs_background": "light"
          }
        }
      ]
    }
  ]
}